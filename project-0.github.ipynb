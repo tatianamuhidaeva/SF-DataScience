{
 "cells": [
  {
   "cell_type": "code",
   "execution_count": 17,
   "metadata": {},
   "outputs": [
    {
     "name": "stdout",
     "output_type": "stream",
     "text": [
      "Ваш алгоритм угадывает число в среднем за 5 попыток\n"
     ]
    },
    {
     "data": {
      "text/plain": [
       "5"
      ]
     },
     "execution_count": 17,
     "metadata": {},
     "output_type": "execute_result"
    }
   ],
   "source": [
    "import numpy as np\n",
    "import math\n",
    "\n",
    "#указываем начало и конец диапазона для выбора случайного числа\n",
    "global_start = 1\n",
    "global_end = 101\n",
    "\n",
    "def game_core_v3(number):\n",
    "    \n",
    "    '''Артеллерийский подход. Устанавливаем середину, затем сравниваем.\n",
    "    Потом идем в меньшую или большую сторону и берем там снова середину,\n",
    "    сравниваем, и т.д., пока не дойдем до нужного числа'''\n",
    "    \n",
    "    count = 1\n",
    "    start = global_start\n",
    "    end = global_end\n",
    "    predict = math.ceil((end - start)/2)\n",
    "\n",
    "    while number != predict:\n",
    "        count+=1\n",
    "        if number > predict: \n",
    "            start = predict\n",
    "            predict += math.ceil((end - predict)/2)\n",
    "            \n",
    "        elif number < predict: \n",
    "            end = predict\n",
    "            predict -= math.ceil((predict-start)/2)\n",
    "            \n",
    "    return(count) # выход из цикла, если угадали\n",
    "        \n",
    "def score_game(game_core):\n",
    "    '''Запускаем игру 1000 раз, чтобы узнать, как быстро игра угадывает число'''\n",
    "    count_ls = []\n",
    "    np.random.seed(1)  # фиксируем RANDOM SEED, чтобы ваш эксперимент был воспроизводим!\n",
    "    random_array = np.random.randint(global_start,global_end, size=(1000))\n",
    "    for number in random_array:\n",
    "        count_ls.append(game_core(number))\n",
    "    score = int(np.mean(count_ls))\n",
    "    print(f\"Ваш алгоритм угадывает число в среднем за {score} попыток\")\n",
    "    return(score)\n",
    "\n",
    "# запускаем\n",
    "score_game(game_core_v3)"
   ]
  },
  {
   "cell_type": "code",
   "execution_count": null,
   "metadata": {},
   "outputs": [],
   "source": []
  },
  {
   "cell_type": "code",
   "execution_count": null,
   "metadata": {},
   "outputs": [],
   "source": []
  }
 ],
 "metadata": {
  "kernelspec": {
   "display_name": "Python 3",
   "language": "python",
   "name": "python3"
  },
  "language_info": {
   "codemirror_mode": {
    "name": "ipython",
    "version": 3
   },
   "file_extension": ".py",
   "mimetype": "text/x-python",
   "name": "python",
   "nbconvert_exporter": "python",
   "pygments_lexer": "ipython3",
   "version": "3.8.3"
  }
 },
 "nbformat": 4,
 "nbformat_minor": 4
}
